{
 "cells": [
  {
   "cell_type": "code",
   "execution_count": 1,
   "id": "9e52a89c",
   "metadata": {
    "ExecuteTime": {
     "end_time": "2021-11-18T07:19:07.636165Z",
     "start_time": "2021-11-18T07:19:03.515065Z"
    }
   },
   "outputs": [],
   "source": [
    "import keras\n",
    "import tensorflow as tf\n",
    "from keras.datasets import mnist\n",
    "from keras.models import Sequential\n",
    "from keras.layers import Dense, Dropout, Flatten\n",
    "from keras.layers import Conv2D, MaxPooling2D\n",
    "from keras import backend as K"
   ]
  },
  {
   "cell_type": "markdown",
   "id": "90c25ab7",
   "metadata": {},
   "source": [
    "####  разделяем данные на надор для обучения и тесовый"
   ]
  },
  {
   "cell_type": "code",
   "execution_count": 2,
   "id": "56f03240",
   "metadata": {},
   "outputs": [
    {
     "name": "stdout",
     "output_type": "stream",
     "text": [
      "Downloading data from https://storage.googleapis.com/tensorflow/tf-keras-datasets/mnist.npz\n",
      "11493376/11490434 [==============================] - 46s 4us/step\n",
      "11501568/11490434 [==============================] - 46s 4us/step\n",
      "(60000, 28, 28) (60000,)\n"
     ]
    }
   ],
   "source": [
    "(x_train, y_train), (x_test, y_test) = mnist.load_data()\n",
    "\n",
    "print(x_train.shape, y_train.shape)"
   ]
  },
  {
   "cell_type": "code",
   "execution_count": 3,
   "id": "7bd29c56",
   "metadata": {},
   "outputs": [],
   "source": [
    "num_classes = 10\n",
    "x_train = x_train.reshape(x_train.shape[0], 28, 28, 1)\n",
    "x_test = x_test.reshape(x_test.shape[0], 28, 28, 1)\n",
    "input_shape = (28, 28, 1)"
   ]
  },
  {
   "cell_type": "markdown",
   "id": "faf7057d",
   "metadata": {},
   "source": [
    "#### преобразование векторных классов в бинарные матрицы"
   ]
  },
  {
   "cell_type": "code",
   "execution_count": 4,
   "id": "0378c618",
   "metadata": {
    "ExecuteTime": {
     "end_time": "2021-11-18T07:19:07.763244Z",
     "start_time": "2021-11-18T07:19:07.638168Z"
    }
   },
   "outputs": [
    {
     "name": "stdout",
     "output_type": "stream",
     "text": [
      "Размерность x_train: (60000, 28, 28, 1)\n",
      "60000 Размер train\n",
      "10000 Размер test\n"
     ]
    }
   ],
   "source": [
    "y_train = keras.utils.np_utils.to_categorical(y_train, num_classes)\n",
    "y_test = keras.utils.np_utils.to_categorical(y_test, num_classes)\n",
    "\n",
    "x_train = x_train.astype('float32')\n",
    "x_test = x_test.astype('float32')\n",
    "x_train /= 255\n",
    "x_test /= 255\n",
    "print('Размерность x_train:', x_train.shape)\n",
    "print(x_train.shape[0], 'Размер train')\n",
    "print(x_test.shape[0], 'Размер test')\n"
   ]
  },
  {
   "cell_type": "code",
   "execution_count": 5,
   "id": "95a43908",
   "metadata": {
    "ExecuteTime": {
     "end_time": "2021-11-18T07:43:13.942393Z",
     "start_time": "2021-11-18T07:43:13.628547Z"
    }
   },
   "outputs": [
    {
     "data": {
      "image/png": "[encoded data removed]",
      "text/plain": [
       "<Figure size 432x288 with 5 Axes>"
      ]
     },
     "metadata": {
      "needs_background": "light"
     },
     "output_type": "display_data"
    }
   ],
   "source": [
    "import numpy as np\n",
    "import matplotlib.pyplot as plt\n",
    "try:\n",
    "    for index, (image, label) in enumerate(zip(x_train, y_train)):\n",
    "        plt.subplot(1, 5, index + 1)\n",
    "        plt.imshow(np.reshape(image, (28, 28)), cmap=plt.cm.gray)\n",
    "except:\n",
    "    pass"
   ]
  },
  {
   "cell_type": "code",
   "execution_count": 6,
   "id": "bdff4d6e",
   "metadata": {
    "ExecuteTime": {
     "end_time": "2021-11-18T07:19:10.797215Z",
     "start_time": "2021-11-18T07:19:03.516Z"
    }
   },
   "outputs": [],
   "source": [
    "batch_size = 128\n",
    "epochs = 10\n",
    "\n",
    "model = Sequential()\n",
    "model.add(Conv2D(32, kernel_size=(3, 3),activation='relu',input_shape=input_shape))\n",
    "model.add(Conv2D(64, (3, 3), activation='relu'))\n",
    "model.add(MaxPooling2D(pool_size=(2, 2)))\n",
    "model.add(Dropout(0.25))\n",
    "model.add(Flatten())\n",
    "model.add(Dense(256, activation='relu'))\n",
    "model.add(Dropout(0.5))\n",
    "model.add(Dense(num_classes, activation='softmax'))\n",
    "model.compile(loss=keras.losses.categorical_crossentropy,optimizer=tf.keras.optimizers.Adadelta(),metrics=['accuracy'])"
   ]
  },
  {
   "cell_type": "code",
   "execution_count": 7,
   "id": "125b42c3",
   "metadata": {
    "ExecuteTime": {
     "end_time": "2021-11-18T07:19:10.798215Z",
     "start_time": "2021-11-18T07:19:03.518Z"
    }
   },
   "outputs": [
    {
     "name": "stdout",
     "output_type": "stream",
     "text": [
      "Epoch 1/10\n",
      "469/469 [==============================] - 558s 1s/step - loss: 2.2664 - accuracy: 0.1732 - val_loss: 2.2056 - val_accuracy: 0.4458\n",
      "Epoch 2/10\n",
      "469/469 [==============================] - 489s 1s/step - loss: 2.1695 - accuracy: 0.3345 - val_loss: 2.0821 - val_accuracy: 0.6326\n",
      "Epoch 3/10\n",
      "469/469 [==============================] - 540s 1s/step - loss: 2.0392 - accuracy: 0.4629 - val_loss: 1.9113 - val_accuracy: 0.7164\n",
      "Epoch 4/10\n",
      "469/469 [==============================] - 532s 1s/step - loss: 1.8587 - accuracy: 0.5583 - val_loss: 1.6843 - val_accuracy: 0.7609\n",
      "Epoch 5/10\n",
      "469/469 [==============================] - 540s 1s/step - loss: 1.6392 - accuracy: 0.6126 - val_loss: 1.4202 - val_accuracy: 0.7902\n",
      "Epoch 6/10\n",
      "469/469 [==============================] - 603s 1s/step - loss: 1.4059 - accuracy: 0.6551 - val_loss: 1.1669 - val_accuracy: 0.8107\n",
      "Epoch 7/10\n",
      "469/469 [==============================] - 480s 1s/step - loss: 1.2102 - accuracy: 0.6815 - val_loss: 0.9637 - val_accuracy: 0.8248\n",
      "Epoch 8/10\n",
      "469/469 [==============================] - 421s 897ms/step - loss: 1.0536 - accuracy: 0.7119 - val_loss: 0.8169 - val_accuracy: 0.8351\n",
      "Epoch 9/10\n",
      "469/469 [==============================] - 417s 889ms/step - loss: 0.9430 - accuracy: 0.7296 - val_loss: 0.7137 - val_accuracy: 0.8437\n",
      "Epoch 10/10\n",
      "469/469 [==============================] - 417s 889ms/step - loss: 0.8578 - accuracy: 0.7506 - val_loss: 0.6390 - val_accuracy: 0.8539\n",
      "Модель успешно обучена\n",
      "Модель сохранена как mnist.h5\n"
     ]
    }
   ],
   "source": [
    "hist = model.fit(x_train, y_train, batch_size = batch_size, epochs=epochs, verbose=1, validation_data=(x_test, y_test))\n",
    "print(\"Модель успешно обучена\")\n",
    "\n",
    "model.save('mnist.h5')\n",
    "print(\"Модель сохранена как mnist.h5\")"
   ]
  },
  {
   "cell_type": "code",
   "execution_count": 8,
   "id": "44b8e884",
   "metadata": {
    "ExecuteTime": {
     "end_time": "2021-11-18T07:19:10.799215Z",
     "start_time": "2021-11-18T07:19:03.521Z"
    }
   },
   "outputs": [
    {
     "name": "stdout",
     "output_type": "stream",
     "text": [
      "Потери на тесте: 0.6389588117599487\n",
      "Точность на тесте: 0.8539000153541565\n"
     ]
    }
   ],
   "source": [
    "score = model.evaluate(x_test, y_test, verbose=0)\n",
    "print('Потери на тесте:', score[0])\n",
    "print('Точность на тесте:', score[1])"
   ]
  },
  {
   "cell_type": "code",
   "execution_count": null,
   "id": "da0fe094",
   "metadata": {},
   "outputs": [],
   "source": []
  }
 ],
 "metadata": {
  "kernelspec": {
   "display_name": "Python 3 (ipykernel)",
   "language": "python",
   "name": "python3"
  },
  "language_info": {
   "codemirror_mode": {
    "name": "ipython",
    "version": 3
   },
   "file_extension": ".py",
   "mimetype": "text/x-python",
   "name": "python",
   "nbconvert_exporter": "python",
   "pygments_lexer": "ipython3",
   "version": "3.9.7"
  },
  "varInspector": {
   "cols": {
    "lenName": 16,
    "lenType": 16,
    "lenVar": 40
   },
   "kernels_config": {
    "python": {
     "delete_cmd_postfix": "",
     "delete_cmd_prefix": "del ",
     "library": "var_list.py",
     "varRefreshCmd": "print(var_dic_list())"
    },
    "r": {
     "delete_cmd_postfix": ") ",
     "delete_cmd_prefix": "rm(",
     "library": "var_list.r",
     "varRefreshCmd": "cat(var_dic_list()) "
    }
   },
   "types_to_exclude": [
    "module",
    "function",
    "builtin_function_or_method",
    "instance",
    "_Feature"
   ],
   "window_display": false
  }
 },
 "nbformat": 4,
 "nbformat_minor": 5
}
